{
 "cells": [
  {
   "cell_type": "code",
   "execution_count": 1,
   "metadata": {},
   "outputs": [],
   "source": [
    "# Get offers from database\n",
    "from offer import Offer\n",
    "\n",
    "Offer.ConnectToDatabase()\n",
    "Offer.SetKeyspace(\"symplicity\")\n",
    "Offer.PrepareStatements()\n",
    "\n",
    "career = \"ECONOMÍA\"\n",
    "min_date = (7, 2016)\n",
    "max_date = (6, 2017)\n",
    "source = \"symplicity\"\n",
    "text_fields = [\"Description\", \"Job Title\", \"Qualifications\"]\n",
    "\n",
    "offers = [offer for offer in Offer.ByDateRange(min_date, max_date, source) if career in offer.careers]\n"
   ]
  },
  {
   "cell_type": "code",
   "execution_count": 2,
   "metadata": {},
   "outputs": [],
   "source": [
    "filename = \"ConvocatoriasEconomiaConEmpresas.csv\"\n",
    "print_id = True\n",
    "\n",
    "OFFER_ID_FIELD = \"Id\"\n",
    "OFFER_YEAR_FIELD = \"Año\"\n",
    "OFFER_MONTH_FIELD = \"Mes\"\n",
    "OFFER_SOURCE_FIELD = \"Fuente\"\n",
    "print_labels = False\n",
    "\n",
    "import csv\n",
    "conf_features = [\"Job Title\", \"Description\", \"Qualifications\", \"Organization Name\"]\n",
    "\n",
    "with open(filename, \"w\") as csvfile:\n",
    "    fieldnames = []\n",
    "\n",
    "    if print_id is True:\n",
    "        fieldnames.append(OFFER_ID_FIELD)\n",
    "        fieldnames.append(OFFER_YEAR_FIELD)\n",
    "        fieldnames.append(OFFER_MONTH_FIELD)\n",
    "        fieldnames.append(OFFER_SOURCE_FIELD)\n",
    "        \n",
    "    fieldnames += list(conf_features)\n",
    "\n",
    "    if print_labels:\n",
    "        fieldnames += list(labels)\n",
    "\n",
    "    writer = csv.DictWriter(csvfile, fieldnames=fieldnames)\n",
    "    writer.writeheader()\n",
    "\n",
    "    for offer in offers:\n",
    "        write_dict = {}\n",
    "        if print_id is True:\n",
    "            write_dict[OFFER_ID_FIELD] = offer.id\n",
    "            write_dict[OFFER_YEAR_FIELD] = offer.year\n",
    "            write_dict[OFFER_MONTH_FIELD] = offer.month\n",
    "            write_dict[OFFER_SOURCE_FIELD] = offer.source\n",
    "\n",
    "        for feature_name in conf_features:\n",
    "            if feature_name in offer.features:\n",
    "                write_dict[feature_name] = offer.features[feature_name]\n",
    "\n",
    "        if print_labels:\n",
    "            if field in offer.features:\n",
    "                offer_labels = offer.features[field].split(\",\")\n",
    "                for label in labels:\n",
    "                    if label in offer_labels:\n",
    "                        write_dict[label] = \"X\"\n",
    "                    else:\n",
    "                        write_dict[label] = \"\"\n",
    "            else:\n",
    "                for label in labels:\n",
    "                    write_dict[label] = \"\"\n",
    "\n",
    "        writer.writerow(write_dict)\n",
    "\n"
   ]
  },
  {
   "cell_type": "code",
   "execution_count": null,
   "metadata": {},
   "outputs": [],
   "source": []
  }
 ],
 "metadata": {
  "kernelspec": {
   "display_name": "Python 3",
   "language": "python",
   "name": "python3"
  },
  "language_info": {
   "codemirror_mode": {
    "name": "ipython",
    "version": 3
   },
   "file_extension": ".py",
   "mimetype": "text/x-python",
   "name": "python",
   "nbconvert_exporter": "python",
   "pygments_lexer": "ipython3",
   "version": "3.5.2"
  }
 },
 "nbformat": 4,
 "nbformat_minor": 2
}
