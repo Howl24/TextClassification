{
 "cells": [
  {
   "cell_type": "code",
   "execution_count": 2,
   "metadata": {},
   "outputs": [],
   "source": [
    "# Get offers from database\n",
    "from offer import Offer\n",
    "\n",
    "Offer.ConnectToDatabase()\n",
    "Offer.SetKeyspace(\"symplicity\")\n",
    "Offer.PrepareStatements()\n",
    "\n",
    "career = \"ECONOMÍA\"\n",
    "min_date = (1, 2013)\n",
    "max_date = (12, 2017)\n",
    "source = \"symplicity\"\n",
    "text_fields = [\"Description\", \"Job Title\", \"Qualifications\"]\n",
    "\n",
    "offers = [offer for offer in Offer.ByDateRange(min_date, max_date, source) if career in offer.careers]\n",
    "\n",
    "\n",
    "import csv\n",
    "with open('data.csv', 'w') as csvfile:\n",
    "    fieldnames = text_fields\n",
    "    wr = csv.DictWriter(csvfile, fieldnames=fieldnames)\n",
    "    wr.writeheader()\n",
    "    \n",
    "    for offer in offers:        \n",
    "        row = {}\n",
    "        for field in fieldnames:\n",
    "            row[field] = offer.features[field]\n",
    "        wr.writerow(row)"
   ]
  },
  {
   "cell_type": "code",
   "execution_count": 2,
   "metadata": {},
   "outputs": [],
   "source": [
    "import csv\n",
    "data = []\n",
    "with open('data.csv') as csvfile:\n",
    "    reader = csv.DictReader(csvfile)    \n",
    "    for row in reader:\n",
    "        text = \" \".join(row.values())\n",
    "        data.append(text)\n"
   ]
  },
  {
   "cell_type": "code",
   "execution_count": 3,
   "metadata": {},
   "outputs": [
    {
     "name": "stderr",
     "output_type": "stream",
     "text": [
      "/home/howl24/.virtualenvs/TextClassification/lib/python3.5/site-packages/nltk/tag/stanford.py:149: DeprecationWarning: \n",
      "The StanfordTokenizer will be deprecated in version 3.2.5.\n",
      "Please use \u001b[91mnltk.tag.corenlp.CoreNLPPOSTagger\u001b[0m or \u001b[91mnltk.tag.corenlp.CoreNLPNERTagger\u001b[0m instead.\n",
      "  super(StanfordPOSTagger, self).__init__(*args, **kwargs)\n"
     ]
    },
    {
     "data": {
      "text/plain": [
       "[('Esta', 'pd000000'),\n",
       " ('es', 'vsip000'),\n",
       " ('una', 'di0000'),\n",
       " ('oración', 'nc0s000'),\n",
       " ('de', 'sp000'),\n",
       " ('prueba.', 'np00000')]"
      ]
     },
     "execution_count": 3,
     "metadata": {},
     "output_type": "execute_result"
    }
   ],
   "source": [
    "import nltk\n",
    "from nltk.tag.stanford import StanfordPOSTagger\n",
    "\n",
    "spanish_postagger = StanfordPOSTagger('models/spanish.tagger', 'stanford-postagger.jar')\n",
    "spanish_postagger.tag('Esta es una oración de prueba.'.split())    "
   ]
  },
  {
   "cell_type": "code",
   "execution_count": 4,
   "metadata": {},
   "outputs": [],
   "source": [
    "data = data[:20]\n"
   ]
  },
  {
   "cell_type": "code",
   "execution_count": 5,
   "metadata": {},
   "outputs": [
    {
     "data": {
      "text/plain": [
       "'No es necesaria. •\\tRecopilación, procesamiento y análisis de información cualitativa y cuantitativa: La recopilación de información se aborda a través de la interacción con clientes, la revisión de documentación interna y la búsqueda de información pública. Posteriormente la misma es procesada en conjunto con los demás consultores con el objetivo de generar conclusiones que se traduzcan en acciones específicas.\\n•\\tAsistencia en el desarrollo de publicaciones: Periódicamente se realizan estudios relacionados a mercados financieros y de capitales que son publicados en diarios y revistas de reconocido prestigio. \\n•\\tAsistencia en el desarrollo de proyectos: En su mayoría, los mismos están dirigidos a identificar ámbitos de mejora en materia de mejores prácticas de Gobierno Corporativo, y eventualmente guiar su implementación. Ello aplica tanto para entidades públicas y privadas. Analista Junior de Finanzas y Gobierno Corporativo'"
      ]
     },
     "execution_count": 5,
     "metadata": {},
     "output_type": "execute_result"
    }
   ],
   "source": [
    "data[0]\n"
   ]
  },
  {
   "cell_type": "code",
   "execution_count": 6,
   "metadata": {},
   "outputs": [
    {
     "data": {
      "text/plain": [
       "['No',\n",
       " 'es',\n",
       " 'necesaria',\n",
       " '.',\n",
       " '•',\n",
       " 'Recopilación',\n",
       " ',',\n",
       " 'procesamiento',\n",
       " 'y',\n",
       " 'análisis',\n",
       " 'de',\n",
       " 'información',\n",
       " 'cualitativa',\n",
       " 'y',\n",
       " 'cuantitativa',\n",
       " ':',\n",
       " 'La',\n",
       " 'recopilación',\n",
       " 'de',\n",
       " 'información',\n",
       " 'se',\n",
       " 'aborda',\n",
       " 'a',\n",
       " 'través',\n",
       " 'de',\n",
       " 'la',\n",
       " 'interacción',\n",
       " 'con',\n",
       " 'clientes',\n",
       " ',',\n",
       " 'la',\n",
       " 'revisión',\n",
       " 'de',\n",
       " 'documentación',\n",
       " 'interna',\n",
       " 'y',\n",
       " 'la',\n",
       " 'búsqueda',\n",
       " 'de',\n",
       " 'información',\n",
       " 'pública',\n",
       " '.',\n",
       " 'Posteriormente',\n",
       " 'la',\n",
       " 'misma',\n",
       " 'es',\n",
       " 'procesada',\n",
       " 'en',\n",
       " 'conjunto',\n",
       " 'con',\n",
       " 'los',\n",
       " 'demás',\n",
       " 'consultores',\n",
       " 'con',\n",
       " 'el',\n",
       " 'objetivo',\n",
       " 'de',\n",
       " 'generar',\n",
       " 'conclusiones',\n",
       " 'que',\n",
       " 'se',\n",
       " 'traduzcan',\n",
       " 'en',\n",
       " 'acciones',\n",
       " 'específicas',\n",
       " '.',\n",
       " '•',\n",
       " 'Asistencia',\n",
       " 'en',\n",
       " 'el',\n",
       " 'desarrollo',\n",
       " 'de',\n",
       " 'publicaciones',\n",
       " ':',\n",
       " 'Periódicamente',\n",
       " 'se',\n",
       " 'realizan',\n",
       " 'estudios',\n",
       " 'relacionados',\n",
       " 'a',\n",
       " 'mercados',\n",
       " 'financieros',\n",
       " 'y',\n",
       " 'de',\n",
       " 'capitales',\n",
       " 'que',\n",
       " 'son',\n",
       " 'publicados',\n",
       " 'en',\n",
       " 'diarios',\n",
       " 'y',\n",
       " 'revistas',\n",
       " 'de',\n",
       " 'reconocido',\n",
       " 'prestigio',\n",
       " '.',\n",
       " '•',\n",
       " 'Asistencia',\n",
       " 'en',\n",
       " 'el',\n",
       " 'desarrollo',\n",
       " 'de',\n",
       " 'proyectos',\n",
       " ':',\n",
       " 'En',\n",
       " 'su',\n",
       " 'mayoría',\n",
       " ',',\n",
       " 'los',\n",
       " 'mismos',\n",
       " 'están',\n",
       " 'dirigidos',\n",
       " 'a',\n",
       " 'identificar',\n",
       " 'ámbitos',\n",
       " 'de',\n",
       " 'mejora',\n",
       " 'en',\n",
       " 'materia',\n",
       " 'de',\n",
       " 'mejores',\n",
       " 'prácticas',\n",
       " 'de',\n",
       " 'Gobierno',\n",
       " 'Corporativo',\n",
       " ',',\n",
       " 'y',\n",
       " 'eventualmente',\n",
       " 'guiar',\n",
       " 'su',\n",
       " 'implementación',\n",
       " '.',\n",
       " 'Ello',\n",
       " 'aplica',\n",
       " 'tanto',\n",
       " 'para',\n",
       " 'entidades',\n",
       " 'públicas',\n",
       " 'y',\n",
       " 'privadas',\n",
       " '.',\n",
       " 'Analista',\n",
       " 'Junior',\n",
       " 'de',\n",
       " 'Finanzas',\n",
       " 'y',\n",
       " 'Gobierno',\n",
       " 'Corporativo']"
      ]
     },
     "execution_count": 6,
     "metadata": {},
     "output_type": "execute_result"
    }
   ],
   "source": [
    "from nltk.tokenize import word_tokenize\n",
    "word_tokenize(data[0])"
   ]
  },
  {
   "cell_type": "code",
   "execution_count": 29,
   "metadata": {
    "scrolled": false
   },
   "outputs": [],
   "source": [
    "terms_by_tag = {}\n",
    "terms_by_tag['n'] = set()\n",
    "terms_by_tag['v'] = set()\n",
    "terms_by_tag['a'] = set()\n",
    "terms_by_tag['c'] = set()\n",
    "terms_by_tag['d'] = set()\n",
    "terms_by_tag['f'] = set()\n",
    "terms_by_tag['i'] = set()\n",
    "terms_by_tag['p'] = set()\n",
    "terms_by_tag['r'] = set()\n",
    "terms_by_tag['s'] = set()\n",
    "terms_by_tag['w'] = set()\n",
    "terms_by_tag['z'] = set()\n",
    "\n",
    "punctuations = ['•','/']\n",
    "\n",
    "translator = str.maketrans(\"\".join(punctuations),' '*len(punctuations))\n",
    "proc_data = []\n",
    "for text in data:\n",
    "    text = text.lower()\n",
    "    text = text.translate(translator)\n",
    "    proc_data.append(text)\n",
    "    \n",
    "data = proc_data\n"
   ]
  },
  {
   "cell_type": "code",
   "execution_count": 27,
   "metadata": {},
   "outputs": [
    {
     "name": "stdout",
     "output_type": "stream",
     "text": [
      " experiencia no menor a un año en costos de inventarios y proveedores.\n",
      " experiencia en el manejo de sistemas integrados de gestión (erp) y excel.\n",
      " de preferencia con conocimiento en oracle financial.\n",
      " conocimiento básico de importaciones y conocimiento básicos en temas de impuestos.\n",
      " manejo de excel.  mantener actualizada la información de negociación y precio con proveedores en el sistema y registro de ingresos en oracle.\n",
      " activar y actualizar los costos y descuentos de artículos en sistema.\n",
      " revisar diariamente el listado de actualización de costos contra los soportes entregados  por los compradores, y archivar los documentos que sustentan los cambios de costos.\n",
      " periódicamente realizar la liquidación de las importaciones para el costeo de los productos.\n",
      " revisar las diferencias en costos registrados entre la orden de compra y la factura de los proveedores.\n",
      " mensualmente elaborar, controlar y dar seguimiento al kardex de mercancía de los centros de servicios.\n",
      " mensualmente controlar y revisar los inventarios finales del material de empaque.\n",
      " actualización de costos de proveedores. asistente de costos\n"
     ]
    }
   ],
   "source": [
    "for text in data:\n",
    "    if \"kardex\" in text:\n",
    "        print(text)"
   ]
  },
  {
   "cell_type": "code",
   "execution_count": 30,
   "metadata": {},
   "outputs": [
    {
     "name": "stdout",
     "output_type": "stream",
     "text": [
      "z0\n"
     ]
    }
   ],
   "source": [
    "for text in data:\n",
    "    tag_terms = spanish_postagger.tag(word_tokenize(text))\n",
    "    for term in tag_terms:\n",
    "        if term[0] == 'kardex':\n",
    "            print(term[1])\n",
    "        for tag in terms_by_tag:\n",
    "            if term[1][0] == tag:\n",
    "                terms_by_tag[tag].add(term[0])                "
   ]
  },
  {
   "cell_type": "code",
   "execution_count": 33,
   "metadata": {},
   "outputs": [
    {
     "data": {
      "text/plain": [
       "{'120',\n",
       " '2',\n",
       " '25',\n",
       " '8',\n",
       " 'algún',\n",
       " 'cada',\n",
       " 'cinco',\n",
       " 'demás',\n",
       " 'el',\n",
       " 'la',\n",
       " 'las',\n",
       " 'lo',\n",
       " 'los',\n",
       " 'mio',\n",
       " 'mismo',\n",
       " 'nuestros',\n",
       " 'otras',\n",
       " 'su',\n",
       " 'sus',\n",
       " 'todas',\n",
       " 'todos',\n",
       " 'tres',\n",
       " 'un',\n",
       " 'una'}"
      ]
     },
     "execution_count": 33,
     "metadata": {},
     "output_type": "execute_result"
    }
   ],
   "source": [
    "terms_by_tag['d']"
   ]
  },
  {
   "cell_type": "code",
   "execution_count": 23,
   "metadata": {},
   "outputs": [],
   "source": [
    "vocab = set()\n",
    "vocab.update(terms_by_tag['n'])\n",
    "vocab.update(terms_by_tag['v'])\n",
    "vocab.update(terms_by_tag['a'])\n",
    "vocab.update(terms_by_tag['d'])\n"
   ]
  },
  {
   "cell_type": "code",
   "execution_count": 24,
   "metadata": {},
   "outputs": [
    {
     "data": {
      "text/plain": [
       "747"
      ]
     },
     "execution_count": 24,
     "metadata": {},
     "output_type": "execute_result"
    }
   ],
   "source": [
    "len(vocab)"
   ]
  },
  {
   "cell_type": "code",
   "execution_count": 25,
   "metadata": {},
   "outputs": [],
   "source": [
    "from sklearn.feature_extraction.text import TfidfVectorizer\n",
    "vectorizer = TfidfVectorizer()\n",
    "vectorizer.fit(data)\n",
    "\n",
    "terms = vectorizer.get_feature_names()"
   ]
  },
  {
   "cell_type": "code",
   "execution_count": 32,
   "metadata": {
    "scrolled": true
   },
   "outputs": [
    {
     "name": "stdout",
     "output_type": "stream",
     "text": [
      "(\n",
      "www.vivienda.gob.pe\n",
      "c\n",
      "l\n",
      "h\n",
      "b\n",
      "i\n",
      "s.a.\n",
      "g\n",
      "m\n",
      "k\n",
      "convocatorias.html\n",
      "j\n",
      ")\n",
      "f\n"
     ]
    }
   ],
   "source": [
    "for term in vocab:\n",
    "    if term not in terms:\n",
    "        print(term)"
   ]
  },
  {
   "cell_type": "code",
   "execution_count": 26,
   "metadata": {},
   "outputs": [
    {
     "name": "stdout",
     "output_type": "stream",
     "text": [
      "000\n",
      "02\n",
      "03\n",
      "10\n",
      "12\n",
      "120\n",
      "150\n",
      "25\n",
      "281\n",
      "90\n",
      "además\n",
      "al\n",
      "algún\n",
      "alrededor\n",
      "asistir\n",
      "así\n",
      "bajo\n",
      "cada\n",
      "casi\n",
      "cinco\n",
      "claro\n",
      "como\n",
      "con\n",
      "conjuntamente\n",
      "contra\n",
      "convocatorias\n",
      "correctamente\n",
      "de\n",
      "del\n",
      "demás\n",
      "dentro\n",
      "desde\n",
      "diariamente\n",
      "dos\n",
      "durante\n",
      "el\n",
      "ello\n",
      "en\n",
      "entre\n",
      "etc\n",
      "eventualmente\n",
      "gob\n",
      "hasta\n",
      "html\n",
      "kardex\n",
      "la\n",
      "las\n",
      "le\n",
      "lo\n",
      "los\n",
      "mensualmente\n",
      "mio\n",
      "misma\n",
      "mismas\n",
      "mismo\n",
      "mismos\n",
      "más\n",
      "no\n",
      "nos\n",
      "nuestros\n",
      "otass\n",
      "otras\n",
      "otros\n",
      "para\n",
      "pe\n",
      "periódicamente\n",
      "permanentemente\n",
      "por\n",
      "posteriormente\n",
      "que\n",
      "se\n",
      "según\n",
      "sobre\n",
      "su\n",
      "sus\n",
      "tanto\n",
      "te\n",
      "todas\n",
      "todos\n",
      "tres\n",
      "técnicamente\n",
      "un\n",
      "una\n",
      "varios\n",
      "vivienda\n",
      "www\n"
     ]
    }
   ],
   "source": [
    "for term in terms:\n",
    "    if term not in vocab:\n",
    "        print(term)"
   ]
  },
  {
   "cell_type": "code",
   "execution_count": null,
   "metadata": {},
   "outputs": [],
   "source": []
  },
  {
   "cell_type": "code",
   "execution_count": null,
   "metadata": {},
   "outputs": [],
   "source": []
  }
 ],
 "metadata": {
  "kernelspec": {
   "display_name": "Python 3",
   "language": "python",
   "name": "python3"
  },
  "language_info": {
   "codemirror_mode": {
    "name": "ipython",
    "version": 3
   },
   "file_extension": ".py",
   "mimetype": "text/x-python",
   "name": "python",
   "nbconvert_exporter": "python",
   "pygments_lexer": "ipython3",
   "version": "3.5.2"
  }
 },
 "nbformat": 4,
 "nbformat_minor": 2
}
